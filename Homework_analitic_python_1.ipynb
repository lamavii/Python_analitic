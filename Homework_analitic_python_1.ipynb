{
 "cells": [
  {
   "cell_type": "markdown",
   "id": "c6826160",
   "metadata": {},
   "source": [
    "# Условие 1: #\n",
    "\n",
    "Оформляйте ноутбук, используя эти советы:\n",
    "\n",
    "## Номер задачи - заголовок 2 ##\n",
    "### Номер подзадачи - заголовок 3 ###\n",
    "Предоставленные наборы данных оформляйте, как код\n",
    "Рекомендации для преподавателей по оценке задания:\n",
    "- Смотреть, чтобы студент красиво оформлял ноутбук\n",
    "- Использовал ячейки с текстом\n",
    "- Указывал номера заданий"
   ]
  },
  {
   "cell_type": "markdown",
   "id": "a1feb12c",
   "metadata": {},
   "source": [
    "## Задача_1 ##\n"
   ]
  },
  {
   "cell_type": "markdown",
   "id": "3cf47ad1",
   "metadata": {},
   "source": [
    "### Условие: На складе лежат разные фрукты в разном количестве. \n",
    "### Нужно написать функцию, которая на вход принимает любое количество названий фруктов и их количество, а возвращает общее количество фруктов на складе ### \n"
   ]
  },
  {
   "cell_type": "code",
   "execution_count": 50,
   "id": "7c4a3b44",
   "metadata": {},
   "outputs": [],
   "source": [
    "def summ_fruts(kwargs) -> int:\n",
    "    result = 0\n",
    "    for key, value in kwargs.items():\n",
    "        result += value\n",
    "    print(result)"
   ]
  },
  {
   "cell_type": "code",
   "execution_count": 53,
   "id": "2e2d6d4c",
   "metadata": {},
   "outputs": [
    {
     "name": "stdout",
     "output_type": "stream",
     "text": [
      "40\n"
     ]
    }
   ],
   "source": [
    "fruts = {\n",
    "    'Яблоки': 22,\n",
    "    'ананас': 8,\n",
    "    'дыня': 10\n",
    "}\n",
    "summ_fruts(fruts)"
   ]
  },
  {
   "cell_type": "markdown",
   "id": "8fdec820",
   "metadata": {},
   "source": [
    "## Задача_3 ##"
   ]
  },
  {
   "cell_type": "markdown",
   "id": "507a98d4",
   "metadata": {},
   "source": [
    "\n",
    "### Дан список с затратами на рекламу. Но в данных есть ошибки, некоторые затраты имеют отрицательную величину. \n",
    "### Удалите такие значения из списка и посчитайте суммарные затраты\n",
    "[100, 125, -90, 345, 655, -1, 0, 200] \n",
    "### Используйте list comprehensions "
   ]
  },
  {
   "cell_type": "code",
   "execution_count": 22,
   "id": "ab6eee0b",
   "metadata": {
    "scrolled": true
   },
   "outputs": [
    {
     "name": "stdout",
     "output_type": "stream",
     "text": [
      "1425\n"
     ]
    }
   ],
   "source": [
    "price_old=[100, 125, -90, 345, 655, -1, 0, 200]\n",
    "new_price=[i if i>0 else 0 for i in price_old]\n",
    "print(sum(new_price))"
   ]
  },
  {
   "cell_type": "markdown",
   "id": "c7dab71b",
   "metadata": {},
   "source": [
    "## Задача_4 ##"
   ]
  },
  {
   "cell_type": "markdown",
   "id": "e7a060fa",
   "metadata": {},
   "source": [
    "### Даны два списка.\n",
    "\n",
    "### Дата покупки\n",
    "\n",
    "['2021-09-14', '2021-12-15', '2021-09-08', '2021-12-05', '2021-10-09', '2021-09-30', '2021-12-22', '2021-11-29', '2021-12-24', '2021-11-26', '2021-10-27', '2021-12-18', '2021-11-09', '2021-11-23', '2021-09-27', '2021-10-02', '2021-12-27', '2021-09-20', '2021-12-13', '2021-11-01', '2021-11-09', '2021-12-06', '2021-12-08', '2021-10-09', '2021-10-31', '2021-09-30', '2021-11-09', '2021-12-13', '2021-10-26', '2021-12-09']\n",
    "\n",
    "### Суммы покупок по датам\n",
    "\n",
    "[1270, 8413, 9028, 3703, 5739, 4095, 295, 4944, 5723, 3701, 4471, 651, 7037, 4274, 6275, 4988, 6930, 2971, 6592, 2004, 2822, 519, 3406, 2732, 5015, 2008, 316, 6333, 5700, 2887]"
   ]
  },
  {
   "cell_type": "markdown",
   "id": "2c236939",
   "metadata": {},
   "source": [
    "### 4.1 Найдите, какая выручка у компании в ноябре \n",
    "### Используйте list comprehensions"
   ]
  },
  {
   "cell_type": "code",
   "execution_count": 25,
   "id": "486976ee",
   "metadata": {},
   "outputs": [
    {
     "name": "stdout",
     "output_type": "stream",
     "text": [
      "Выручка компании в ноябре: 25098\n"
     ]
    }
   ],
   "source": [
    "dates=['2021-09-14', '2021-12-15', '2021-09-08', '2021-12-05', '2021-10-09', \n",
    "       '2021-09-30', '2021-12-22', '2021-11-29', '2021-12-24', '2021-11-26', '2021-10-27', '2021-12-18', \n",
    "       '2021-11-09', '2021-11-23', '2021-09-27', '2021-10-02', '2021-12-27', '2021-09-20', '2021-12-13', \n",
    "       '2021-11-01', '2021-11-09', '2021-12-06', '2021-12-08', '2021-10-09', '2021-10-31', '2021-09-30', \n",
    "       '2021-11-09', '2021-12-13', '2021-10-26', '2021-12-09']\n",
    "\n",
    "costs=[1270, 8413, 9028, 3703, 5739, 4095, 295, 4944, 5723, 3701, 4471, 651, \n",
    "       7037, 4274, 6275, 4988, 6930, 2971, 6592, 2004, 2822, 519, 3406, 2732, 5015, 2008, \n",
    "       316, 6333, 5700, 2887]\n",
    "\n",
    "november_up = sum([costs for dates, costs in zip(dates, costs) if dates.startswith('2021-11')])\n",
    "print(f'Выручка компании в ноябре: {november_up}')"
   ]
  },
  {
   "cell_type": "markdown",
   "id": "6445c275",
   "metadata": {},
   "source": [
    "### 4.2 Найдите выручку компании в зависимости от месяца\n",
    "### Для этого напишите функцию, которая на вход принимает список с датами и список с выручкой, а на выходе словарь, где ключи - это месяцы, а значения - это выручка.\n",
    "### Используйте аннотирование типов."
   ]
  },
  {
   "cell_type": "code",
   "execution_count": 41,
   "id": "f3543da3",
   "metadata": {},
   "outputs": [
    {
     "name": "stdout",
     "output_type": "stream",
     "text": [
      "{'September': 25647, 'December': 45452, 'October': 28645, 'November': 25098}\n"
     ]
    }
   ],
   "source": [
    "from typing import List, Dict\n",
    "from datetime import datetime\n",
    "def sales_month(dates: List[str], costs: List[int]) -> Dict[str, int]:\n",
    "    sales_month = {}\n",
    "    for date, cost in zip(dates, costs):\n",
    "        month = datetime.strptime(date, '%Y-%m-%d').strftime('%B')\n",
    "        if month in sales_month:\n",
    "            sales_month[month] += cost\n",
    "        else:\n",
    "            sales_month[month] = cost\n",
    "    return sales_month\n",
    "\n",
    "print(sales_month(dates, costs))"
   ]
  },
  {
   "cell_type": "code",
   "execution_count": null,
   "id": "d5c70862",
   "metadata": {},
   "outputs": [],
   "source": []
  },
  {
   "cell_type": "code",
   "execution_count": null,
   "id": "8f9ff8dd",
   "metadata": {},
   "outputs": [],
   "source": []
  }
 ],
 "metadata": {
  "kernelspec": {
   "display_name": "Python 3 (ipykernel)",
   "language": "python",
   "name": "python3"
  },
  "language_info": {
   "codemirror_mode": {
    "name": "ipython",
    "version": 3
   },
   "file_extension": ".py",
   "mimetype": "text/x-python",
   "name": "python",
   "nbconvert_exporter": "python",
   "pygments_lexer": "ipython3",
   "version": "3.10.9"
  }
 },
 "nbformat": 4,
 "nbformat_minor": 5
}
